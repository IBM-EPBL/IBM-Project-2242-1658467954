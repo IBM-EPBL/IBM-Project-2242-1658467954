{
  "nbformat": 4,
  "nbformat_minor": 0,
  "metadata": {
    "colab": {
      "provenance": [],
      "collapsed_sections": []
    },
    "kernelspec": {
      "name": "python3",
      "display_name": "Python 3"
    },
    "language_info": {
      "name": "python"
    }
  },
  "cells": [
    {
      "cell_type": "markdown",
      "source": [
        "#Sprint1"
      ],
      "metadata": {
        "id": "eEJ52jfYpfjV"
      }
    },
    {
      "cell_type": "markdown",
      "source": [
        "#Import The ImageDataGenerator Library"
      ],
      "metadata": {
        "id": "zDkFH-0IcPNM"
      }
    },
    {
      "cell_type": "code",
      "source": [
        "from google.colab import drive\n",
        "\n",
        "drive.mount('/content/gdrive')"
      ],
      "metadata": {
        "colab": {
          "base_uri": "https://localhost:8080/"
        },
        "id": "CDNiODHbdA4v",
        "outputId": "3839a0a2-726f-4254-afcc-911bf5f2912a"
      },
      "execution_count": 10,
      "outputs": [
        {
          "output_type": "stream",
          "name": "stdout",
          "text": [
            "Drive already mounted at /content/gdrive; to attempt to forcibly remount, call drive.mount(\"/content/gdrive\", force_remount=True).\n"
          ]
        }
      ]
    },
    {
      "cell_type": "markdown",
      "source": [
        "Configure ImageDataGenerator Class"
      ],
      "metadata": {
        "id": "7qWt-FubcV-4"
      }
    },
    {
      "cell_type": "code",
      "execution_count": 11,
      "metadata": {
        "id": "yigURS6KZ5NF"
      },
      "outputs": [],
      "source": [
        "from keras.preprocessing.image import ImageDataGenerator"
      ]
    },
    {
      "cell_type": "code",
      "source": [
        "train_datagen = ImageDataGenerator(rescale=1./255,shear_range=0.2,zoom_range=0.2, horizontal_flip=True)"
      ],
      "metadata": {
        "id": "Dk8wAKCjccCo"
      },
      "execution_count": 12,
      "outputs": []
    },
    {
      "cell_type": "code",
      "source": [
        "test_datagen=ImageDataGenerator(rescale=1./255)"
      ],
      "metadata": {
        "id": "W0SC_rmNdmrE"
      },
      "execution_count": 13,
      "outputs": []
    },
    {
      "cell_type": "markdown",
      "source": [
        "Apply ImageDataGenerator Functionality To Trainset And Testset"
      ],
      "metadata": {
        "id": "sTc9kQADdqjz"
      }
    },
    {
      "cell_type": "code",
      "source": [
        "x_train = train_datagen.flow_from_directory('/content/gdrive/MyDrive/dataset/train_set',target_size=(64, 64),batch_size=5,color_mode='rgb',class_mode='categorical')"
      ],
      "metadata": {
        "colab": {
          "base_uri": "https://localhost:8080/"
        },
        "id": "W4kBaVPidtEZ",
        "outputId": "fc5147eb-81dc-400a-d1fe-66dae75285cc"
      },
      "execution_count": 14,
      "outputs": [
        {
          "output_type": "stream",
          "name": "stdout",
          "text": [
            "Found 742 images belonging to 4 classes.\n"
          ]
        }
      ]
    },
    {
      "cell_type": "code",
      "source": [
        "x_test = test_datagen.flow_from_directory('/content/gdrive/MyDrive/dataset/test_set',target_size=(64, 64),batch_size=5,color_mode='rgb',class_mode='categorical')"
      ],
      "metadata": {
        "colab": {
          "base_uri": "https://localhost:8080/"
        },
        "id": "cOVoYEVpivW5",
        "outputId": "70212181-508b-4be6-93c8-0e1804acd31c"
      },
      "execution_count": 15,
      "outputs": [
        {
          "output_type": "stream",
          "name": "stdout",
          "text": [
            "Found 207 images belonging to 4 classes.\n"
          ]
        }
      ]
    },
    {
      "cell_type": "markdown",
      "source": [
        "#Sprint 2"
      ],
      "metadata": {
        "id": "tOCfa1eKUJ8k"
      }
    },
    {
      "cell_type": "markdown",
      "source": [
        "Train Test And Save Model"
      ],
      "metadata": {
        "id": "HJlDfWtDUc5u"
      }
    },
    {
      "cell_type": "markdown",
      "source": [
        "Importing Necessary Libraries"
      ],
      "metadata": {
        "id": "7yQJYiDYUhBy"
      }
    },
    {
      "cell_type": "code",
      "source": [
        "import numpy as np\n",
        "import tensorflow \n",
        "from tensorflow.keras.models import Sequential\n",
        "from tensorflow.keras import layers\n",
        "from tensorflow.keras.layers import Dense,Flatten\n",
        "from tensorflow.keras.layers import Conv2D, MaxPooling2D\n",
        "from keras.preprocessing.image import ImageDataGenerator"
      ],
      "metadata": {
        "id": "X1wl6Q130vy5"
      },
      "execution_count": 16,
      "outputs": []
    },
    {
      "cell_type": "markdown",
      "source": [
        "Initializing the model"
      ],
      "metadata": {
        "id": "MMiWTrSpUmBt"
      }
    },
    {
      "cell_type": "code",
      "source": [
        "model=Sequential()"
      ],
      "metadata": {
        "id": "QLG2DjDn1Ny7"
      },
      "execution_count": 17,
      "outputs": []
    },
    {
      "cell_type": "markdown",
      "source": [
        "Adding CNN Layers"
      ],
      "metadata": {
        "id": "fp6bPaQlUtPB"
      }
    },
    {
      "cell_type": "code",
      "source": [
        "model.add(Conv2D(32, (3, 3),input_shape=(64, 64, 3),activation='relu'))\n",
        "model.add(MaxPooling2D(pool_size=(2, 2)))\n",
        "model.add(Conv2D(32, (3, 3), activation='relu'))\n",
        "model.add(MaxPooling2D (pool_size= (2, 2)))\n",
        "model.add(Flatten())"
      ],
      "metadata": {
        "id": "p7-SmGlj1SzY"
      },
      "execution_count": 19,
      "outputs": []
    },
    {
      "cell_type": "markdown",
      "source": [
        "Adding Dense Layers"
      ],
      "metadata": {
        "id": "E679zjAPUyPQ"
      }
    },
    {
      "cell_type": "code",
      "source": [
        "model.add(Dense (units=128, activation='relu'))\n",
        "model.add(Dense(units=4, activation='softmax'))\n"
      ],
      "metadata": {
        "id": "9NcB__0j1XOP"
      },
      "execution_count": 21,
      "outputs": []
    },
    {
      "cell_type": "code",
      "source": [
        "model.summary()"
      ],
      "metadata": {
        "colab": {
          "base_uri": "https://localhost:8080/"
        },
        "id": "0l7O0euV14RE",
        "outputId": "b06d1cf0-c208-4e6d-a334-fd5305726f09"
      },
      "execution_count": 22,
      "outputs": [
        {
          "output_type": "stream",
          "name": "stdout",
          "text": [
            "Model: \"sequential_1\"\n",
            "_________________________________________________________________\n",
            " Layer (type)                Output Shape              Param #   \n",
            "=================================================================\n",
            " conv2d (Conv2D)             (None, 62, 62, 32)        896       \n",
            "                                                                 \n",
            " max_pooling2d (MaxPooling2D  (None, 31, 31, 32)       0         \n",
            " )                                                               \n",
            "                                                                 \n",
            " conv2d_1 (Conv2D)           (None, 29, 29, 32)        9248      \n",
            "                                                                 \n",
            " max_pooling2d_1 (MaxPooling  (None, 14, 14, 32)       0         \n",
            " 2D)                                                             \n",
            "                                                                 \n",
            " flatten (Flatten)           (None, 6272)              0         \n",
            "                                                                 \n",
            " dense (Dense)               (None, 128)               802944    \n",
            "                                                                 \n",
            " dense_1 (Dense)             (None, 128)               16512     \n",
            "                                                                 \n",
            " dense_2 (Dense)             (None, 4)                 516       \n",
            "                                                                 \n",
            "=================================================================\n",
            "Total params: 830,116\n",
            "Trainable params: 830,116\n",
            "Non-trainable params: 0\n",
            "_________________________________________________________________\n"
          ]
        }
      ]
    },
    {
      "cell_type": "markdown",
      "source": [
        "#Configure The Learning Process"
      ],
      "metadata": {
        "id": "SoVkduxRU3HH"
      }
    },
    {
      "cell_type": "markdown",
      "source": [
        "Compiling the model"
      ],
      "metadata": {
        "id": "HlWrt4szU8JP"
      }
    },
    {
      "cell_type": "code",
      "source": [
        "model.compile(optimizer='adam',loss='categorical_crossentropy',metrics=['accuracy'])"
      ],
      "metadata": {
        "id": "_a77qURk2WbC"
      },
      "execution_count": 23,
      "outputs": []
    },
    {
      "cell_type": "markdown",
      "source": [
        "#Train The model"
      ],
      "metadata": {
        "id": "QWI-GYv7VFaO"
      }
    },
    {
      "cell_type": "markdown",
      "source": [
        "Fitting the model"
      ],
      "metadata": {
        "id": "IuiTXYzFVOBO"
      }
    },
    {
      "cell_type": "code",
      "source": [
        "model.fit_generator(generator=x_train,steps_per_epoch=len(x_train),validation_data=x_test,validation_steps=len(x_test),epochs=20)"
      ],
      "metadata": {
        "colab": {
          "base_uri": "https://localhost:8080/"
        },
        "id": "QnJ1QaVU22D-",
        "outputId": "add5a8ff-51e8-4f6c-fcd0-1c3ea0d0340f"
      },
      "execution_count": 24,
      "outputs": [
        {
          "metadata": {
            "tags": null
          },
          "name": "stderr",
          "output_type": "stream",
          "text": [
            "/usr/local/lib/python3.7/dist-packages/ipykernel_launcher.py:1: UserWarning: `Model.fit_generator` is deprecated and will be removed in a future version. Please use `Model.fit`, which supports generators.\n",
            "  \"\"\"Entry point for launching an IPython kernel.\n"
          ]
        },
        {
          "metadata": {
            "tags": null
          },
          "name": "stdout",
          "output_type": "stream",
          "text": [
            "Epoch 1/20\n",
            "149/149 [==============================] - 297s 2s/step - loss: 1.1577 - accuracy: 0.5000 - val_loss: 0.9070 - val_accuracy: 0.6280\n",
            "Epoch 2/20\n",
            "149/149 [==============================] - 32s 212ms/step - loss: 0.9663 - accuracy: 0.6038 - val_loss: 0.9857 - val_accuracy: 0.5217\n",
            "Epoch 3/20\n",
            "149/149 [==============================] - 31s 207ms/step - loss: 0.7332 - accuracy: 0.6995 - val_loss: 0.8532 - val_accuracy: 0.6377\n",
            "Epoch 4/20\n",
            "149/149 [==============================] - 32s 212ms/step - loss: 0.6568 - accuracy: 0.7439 - val_loss: 0.7075 - val_accuracy: 0.7295\n",
            "Epoch 5/20\n",
            "149/149 [==============================] - 31s 209ms/step - loss: 0.6205 - accuracy: 0.7655 - val_loss: 0.6931 - val_accuracy: 0.7391\n",
            "Epoch 6/20\n",
            "149/149 [==============================] - 32s 214ms/step - loss: 0.5664 - accuracy: 0.7871 - val_loss: 0.7248 - val_accuracy: 0.7198\n",
            "Epoch 7/20\n",
            "149/149 [==============================] - 31s 206ms/step - loss: 0.4849 - accuracy: 0.8127 - val_loss: 0.6346 - val_accuracy: 0.7488\n",
            "Epoch 8/20\n",
            "149/149 [==============================] - 30s 202ms/step - loss: 0.4404 - accuracy: 0.8437 - val_loss: 0.7166 - val_accuracy: 0.7536\n",
            "Epoch 9/20\n",
            "149/149 [==============================] - 31s 210ms/step - loss: 0.4145 - accuracy: 0.8518 - val_loss: 0.9978 - val_accuracy: 0.6667\n",
            "Epoch 10/20\n",
            "149/149 [==============================] - 33s 222ms/step - loss: 0.4391 - accuracy: 0.8369 - val_loss: 0.6703 - val_accuracy: 0.7826\n",
            "Epoch 11/20\n",
            "149/149 [==============================] - 38s 254ms/step - loss: 0.3591 - accuracy: 0.8720 - val_loss: 0.9767 - val_accuracy: 0.6957\n",
            "Epoch 12/20\n",
            "149/149 [==============================] - 32s 216ms/step - loss: 0.4020 - accuracy: 0.8598 - val_loss: 0.8107 - val_accuracy: 0.7585\n",
            "Epoch 13/20\n",
            "149/149 [==============================] - 32s 217ms/step - loss: 0.2922 - accuracy: 0.8949 - val_loss: 0.8148 - val_accuracy: 0.7778\n",
            "Epoch 14/20\n",
            "149/149 [==============================] - 33s 220ms/step - loss: 0.2256 - accuracy: 0.9191 - val_loss: 0.9667 - val_accuracy: 0.7681\n",
            "Epoch 15/20\n",
            "149/149 [==============================] - 32s 218ms/step - loss: 0.2910 - accuracy: 0.9057 - val_loss: 1.2326 - val_accuracy: 0.6812\n",
            "Epoch 16/20\n",
            "149/149 [==============================] - 32s 215ms/step - loss: 0.2316 - accuracy: 0.9232 - val_loss: 0.9083 - val_accuracy: 0.7826\n",
            "Epoch 17/20\n",
            "149/149 [==============================] - 36s 245ms/step - loss: 0.2194 - accuracy: 0.9232 - val_loss: 0.9241 - val_accuracy: 0.7633\n",
            "Epoch 18/20\n",
            "149/149 [==============================] - 33s 218ms/step - loss: 0.2790 - accuracy: 0.9097 - val_loss: 0.8565 - val_accuracy: 0.7488\n",
            "Epoch 19/20\n",
            "149/149 [==============================] - 31s 209ms/step - loss: 0.2073 - accuracy: 0.9353 - val_loss: 0.9818 - val_accuracy: 0.7826\n",
            "Epoch 20/20\n",
            "149/149 [==============================] - 32s 214ms/step - loss: 0.1946 - accuracy: 0.9353 - val_loss: 0.9782 - val_accuracy: 0.7536\n"
          ]
        },
        {
          "data": {
            "text/plain": [
              "<keras.callbacks.History at 0x7f1cb6696b90>"
            ]
          },
          "execution_count": 24,
          "metadata": {},
          "output_type": "execute_result"
        }
      ]
    },
    {
      "cell_type": "markdown",
      "source": [
        "Save the Model"
      ],
      "metadata": {
        "id": "m3HNH5BfVSTS"
      }
    },
    {
      "cell_type": "code",
      "source": [
        "model.save('disaster.h5')\n",
        "model_json=model.to_json()\n",
        "with open(\"model-bw.json\",\"w\") as json_file:\n",
        "  json_file.write(model_json)"
      ],
      "metadata": {
        "id": "zMhdPZQW9dt_"
      },
      "execution_count": 25,
      "outputs": []
    },
    {
      "cell_type": "markdown",
      "source": [
        "#Test The model"
      ],
      "metadata": {
        "id": "z3qTjli0VZxC"
      }
    },
    {
      "cell_type": "code",
      "source": [
        "from tensorflow.keras.models import load_model\n",
        "from tensorflow.keras.preprocessing import image\n",
        "model=load_model('disaster.h5')"
      ],
      "metadata": {
        "id": "rH2gcCaD90KP"
      },
      "execution_count": 26,
      "outputs": []
    },
    {
      "cell_type": "code",
      "source": [
        "x_train.class_indices"
      ],
      "metadata": {
        "colab": {
          "base_uri": "https://localhost:8080/"
        },
        "id": "MoIocNCm-Aa5",
        "outputId": "d058c5e6-e93a-48e1-ac45-c7093421f71c"
      },
      "execution_count": 27,
      "outputs": [
        {
          "output_type": "execute_result",
          "data": {
            "text/plain": [
              "{'Cyclone': 0, 'Earthquake': 1, 'Flood': 2, 'Wildfire': 3}"
            ]
          },
          "metadata": {},
          "execution_count": 27
        }
      ]
    },
    {
      "cell_type": "code",
      "source": [
        "img = image.load_img(r\"/content/gdrive/MyDrive/dataset/test_set/Earthquake/1325.jpg\",target_size=(64,64))\n",
        "x=image.img_to_array(img)\n",
        "x=np.expand_dims(x,axis=0)\n",
        "index=['Cyclone','Earthquake','Flood','Wildfire']\n",
        "y=np.argmax(model.predict(x),axis=1)\n",
        "print(index[int(y)])"
      ],
      "metadata": {
        "colab": {
          "base_uri": "https://localhost:8080/"
        },
        "id": "5ig2WHLK-D9-",
        "outputId": "0f1748ee-4525-441e-ae7d-6bad94f90942"
      },
      "execution_count": 32,
      "outputs": [
        {
          "output_type": "stream",
          "name": "stdout",
          "text": [
            "1/1 [==============================] - 0s 48ms/step\n",
            "Earthquake\n"
          ]
        }
      ]
    },
    {
      "cell_type": "code",
      "source": [
        "index=['Cyclone', 'Earthquake', 'Flood', 'wildfire']\n",
        "result=str(index[y[0]])\n",
        "result"
      ],
      "metadata": {
        "colab": {
          "base_uri": "https://localhost:8080/",
          "height": 37
        },
        "id": "GY8o72jPTknY",
        "outputId": "6e555ccf-dbb7-4a89-aa29-230052408096"
      },
      "execution_count": 33,
      "outputs": [
        {
          "output_type": "execute_result",
          "data": {
            "text/plain": [
              "'Earthquake'"
            ],
            "application/vnd.google.colaboratory.intrinsic+json": {
              "type": "string"
            }
          },
          "metadata": {},
          "execution_count": 33
        }
      ]
    },
    {
      "cell_type": "code",
      "source": [
        "img = image.load_img(r\"/content/gdrive/MyDrive/dataset/test_set/Cyclone/873.jpg\",target_size=(64,64))\n",
        "x=image.img_to_array(img)\n",
        "x=np.expand_dims(x,axis=0)\n",
        "index=['Cyclone','Earthquake','Flood','Wildfire']\n",
        "y=np.argmax(model.predict(x),axis=1)\n",
        "print(index[int(y)])"
      ],
      "metadata": {
        "colab": {
          "base_uri": "https://localhost:8080/"
        },
        "id": "CbGkNQw2UC1_",
        "outputId": "4ded7ee5-6b9d-49d4-fb47-091eae099ca6"
      },
      "execution_count": 34,
      "outputs": [
        {
          "output_type": "stream",
          "name": "stdout",
          "text": [
            "1/1 [==============================] - 0s 24ms/step\n",
            "Cyclone\n"
          ]
        }
      ]
    },
    {
      "cell_type": "code",
      "source": [
        "index=['Cyclone', 'Earthquake', 'Flood', 'wildfire']\n",
        "result=str(index[y[0]])\n",
        "result"
      ],
      "metadata": {
        "colab": {
          "base_uri": "https://localhost:8080/",
          "height": 37
        },
        "id": "ldvPGqZMUFNs",
        "outputId": "73ea602f-bb73-4f26-8470-a3aa79c88698"
      },
      "execution_count": 35,
      "outputs": [
        {
          "output_type": "execute_result",
          "data": {
            "text/plain": [
              "'Cyclone'"
            ],
            "application/vnd.google.colaboratory.intrinsic+json": {
              "type": "string"
            }
          },
          "metadata": {},
          "execution_count": 35
        }
      ]
    }
  ]
}